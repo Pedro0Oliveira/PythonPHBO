{
  "nbformat": 4,
  "nbformat_minor": 0,
  "metadata": {
    "colab": {
      "provenance": [],
      "authorship_tag": "ABX9TyPVQcNormqjHdpJPmXexYLd",
      "include_colab_link": true
    },
    "kernelspec": {
      "name": "python3",
      "display_name": "Python 3"
    },
    "language_info": {
      "name": "python"
    }
  },
  "cells": [
    {
      "cell_type": "markdown",
      "metadata": {
        "id": "view-in-github",
        "colab_type": "text"
      },
      "source": [
        "<a href=\"https://colab.research.google.com/github/Pedro0Oliveira/PythonPHBO/blob/main/08_Objetos_Built_in_Python.ipynb\" target=\"_parent\"><img src=\"https://colab.research.google.com/assets/colab-badge.svg\" alt=\"Open In Colab\"/></a>"
      ]
    },
    {
      "cell_type": "markdown",
      "source": [
        "Primeiro Codigo da Aula"
      ],
      "metadata": {
        "id": "reyfZSjb6zkX"
      }
    },
    {
      "cell_type": "code",
      "execution_count": 7,
      "metadata": {
        "colab": {
          "base_uri": "https://localhost:8080/"
        },
        "id": "Y2TWRGmG6Wwv",
        "outputId": "abf2c4bb-dcd8-4719-ce16-500d3bd304be"
      },
      "outputs": [
        {
          "output_type": "stream",
          "name": "stdout",
          "text": [
            "4\n",
            "<class 'str'>\n",
            "['__add__', '__class__', '__contains__', '__delattr__', '__dir__', '__doc__', '__eq__', '__format__', '__ge__', '__getattribute__', '__getitem__', '__getnewargs__', '__gt__', '__hash__', '__init__', '__init_subclass__', '__iter__', '__le__', '__len__', '__lt__', '__mod__', '__mul__', '__ne__', '__new__', '__reduce__', '__reduce_ex__', '__repr__', '__rmod__', '__rmul__', '__setattr__', '__sizeof__', '__str__', '__subclasshook__', 'capitalize', 'casefold', 'center', 'count', 'encode', 'endswith', 'expandtabs', 'find', 'format', 'format_map', 'index', 'isalnum', 'isalpha', 'isascii', 'isdecimal', 'isdigit', 'isidentifier', 'islower', 'isnumeric', 'isprintable', 'isspace', 'istitle', 'isupper', 'join', 'ljust', 'lower', 'lstrip', 'maketrans', 'partition', 'removeprefix', 'removesuffix', 'replace', 'rfind', 'rindex', 'rjust', 'rpartition', 'rsplit', 'rstrip', 'split', 'splitlines', 'startswith', 'strip', 'swapcase', 'title', 'translate', 'upper', 'zfill']\n",
            "False\n",
            "True\n",
            "False\n",
            "True\n"
          ]
        }
      ],
      "source": [
        "#Exemplo de uso de objetos built-in do python#\n",
        "s = 'spam'\n",
        "\n",
        "#Para saber o tamanho de s#\n",
        "print(len(s))\n",
        "\n",
        "#Para saber o tipo de classe de s#\n",
        "print(type(s))\n",
        "\n",
        "#Para saber o atributo#\n",
        "print(dir(s))\n",
        "\n",
        "#Para saber/testar o atributo is#\n",
        "print(s.isnumeric())\n",
        "print(s.isascii())\n",
        "print(s.isdecimal())\n",
        "print(s.isprintable())"
      ]
    },
    {
      "cell_type": "markdown",
      "source": [
        "Segundo Codigo da aula"
      ],
      "metadata": {
        "id": "b7Tz1CSE9ptz"
      }
    },
    {
      "cell_type": "code",
      "source": [
        "print(s[0])\n",
        "print(s[1:3])\n",
        "\n",
        "#Trouxe os três primeiros caracteres#\n",
        "print(s[:3])\n",
        "\n",
        "#Como adicionar um sufixo xyz#\n",
        "print(s + 'xyz')\n",
        "\n",
        "#Como buscar o trecho pa#\n",
        "print(s.find('pa'))\n",
        "\n",
        "#Como colocar em letras maiusculas#\n",
        "print(s.upper())\n",
        "\n",
        "#Como colocar em letras minusculas#\n",
        "print(s.lower())\n",
        "\n",
        "#Como substituir um trecho#\n",
        "print(s.replace('pa', 'ma'))\n",
        "\n",
        "#S não é substituido por não mexer na variavel s, só mexe nos prints dessa variavel#\n",
        "print(s)\n"
      ],
      "metadata": {
        "colab": {
          "base_uri": "https://localhost:8080/"
        },
        "id": "lxLA4EYQ9iTc",
        "outputId": "c6b76e2e-789a-4a84-b412-8d3f2b8b2916"
      },
      "execution_count": 15,
      "outputs": [
        {
          "output_type": "stream",
          "name": "stdout",
          "text": [
            "s\n",
            "pa\n",
            "spa\n",
            "spamxyz\n",
            "1\n",
            "SPAM\n",
            "spam\n",
            "smam\n",
            "spam\n"
          ]
        }
      ]
    },
    {
      "cell_type": "markdown",
      "source": [
        "Terceiras exemplificações de codigos"
      ],
      "metadata": {
        "id": "pA7s9eY7_6zL"
      }
    },
    {
      "cell_type": "code",
      "source": [
        "l = [123, 'casa', 3.14]\n",
        "print(type(l))\n",
        "print(dir(l))"
      ],
      "metadata": {
        "colab": {
          "base_uri": "https://localhost:8080/"
        },
        "id": "hiG3ISup_-Gj",
        "outputId": "8f31eaa4-3822-44c2-e4f5-01d788cc5aed"
      },
      "execution_count": 17,
      "outputs": [
        {
          "output_type": "stream",
          "name": "stdout",
          "text": [
            "<class 'list'>\n",
            "['__add__', '__class__', '__class_getitem__', '__contains__', '__delattr__', '__delitem__', '__dir__', '__doc__', '__eq__', '__format__', '__ge__', '__getattribute__', '__getitem__', '__gt__', '__hash__', '__iadd__', '__imul__', '__init__', '__init_subclass__', '__iter__', '__le__', '__len__', '__lt__', '__mul__', '__ne__', '__new__', '__reduce__', '__reduce_ex__', '__repr__', '__reversed__', '__rmul__', '__setattr__', '__setitem__', '__sizeof__', '__str__', '__subclasshook__', 'append', 'clear', 'copy', 'count', 'extend', 'index', 'insert', 'pop', 'remove', 'reverse', 'sort']\n"
          ]
        }
      ]
    },
    {
      "cell_type": "code",
      "source": [
        "l = [123, 'casa', 3.14]\n",
        "print(len(l))\n",
        "print(l[2])\n",
        "#Duplicador de lista#\n",
        "print(l*2)\n",
        "#Adcionar item a lista#\n",
        "l = l + ['abc']\n",
        "print(l)\n",
        "#Adcionar um item a lista#\n",
        "l.append('bola')\n",
        "print(l)\n",
        "#Remover a primeira occorrência de casa#\n",
        "l.remove('casa')\n",
        "print(l)"
      ],
      "metadata": {
        "colab": {
          "base_uri": "https://localhost:8080/"
        },
        "id": "U5P6tbRGCwvN",
        "outputId": "772e1a67-b77b-4941-8807-63f964483f53"
      },
      "execution_count": 24,
      "outputs": [
        {
          "output_type": "stream",
          "name": "stdout",
          "text": [
            "3\n",
            "3.14\n",
            "[123, 'casa', 3.14, 123, 'casa', 3.14]\n",
            "[123, 'casa', 3.14, 'abc']\n",
            "[123, 'casa', 3.14, 'abc', 'bola']\n",
            "[123, 3.14, 'abc', 'bola']\n"
          ]
        }
      ]
    },
    {
      "cell_type": "markdown",
      "source": [
        "Codigo com matrizes"
      ],
      "metadata": {
        "id": "EqLBCK2YDtXu"
      }
    },
    {
      "cell_type": "code",
      "source": [
        "m = []"
      ],
      "metadata": {
        "id": "Hw3yx8jiDvA-"
      },
      "execution_count": null,
      "outputs": []
    }
  ]
}