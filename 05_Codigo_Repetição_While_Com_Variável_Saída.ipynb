{
  "nbformat": 4,
  "nbformat_minor": 0,
  "metadata": {
    "colab": {
      "provenance": [],
      "authorship_tag": "ABX9TyOe5SjOWp3Y6Z6gaxmiIOUu",
      "include_colab_link": true
    },
    "kernelspec": {
      "name": "python3",
      "display_name": "Python 3"
    },
    "language_info": {
      "name": "python"
    }
  },
  "cells": [
    {
      "cell_type": "markdown",
      "metadata": {
        "id": "view-in-github",
        "colab_type": "text"
      },
      "source": [
        "<a href=\"https://colab.research.google.com/github/Pedro0Oliveira/PythonPHBO/blob/main/05_Codigo_Repeti%C3%A7%C3%A3o_While_Com_Vari%C3%A1vel_Sa%C3%ADda.ipynb\" target=\"_parent\"><img src=\"https://colab.research.google.com/assets/colab-badge.svg\" alt=\"Open In Colab\"/></a>"
      ]
    },
    {
      "cell_type": "code",
      "execution_count": 1,
      "metadata": {
        "colab": {
          "base_uri": "https://localhost:8080/"
        },
        "id": "HKlB_SjU6K7s",
        "outputId": "9bd05870-dc76-4320-b83e-c504851c5383"
      },
      "outputs": [
        {
          "output_type": "stream",
          "name": "stdout",
          "text": [
            "Insira o nivel de cloro da água para verificar se está dentro do \n",
            "Digite o nivel de cloro em mg/L: 1\n",
            "O nível do cloro está dentro dos padrões aceitáveis\n"
          ]
        }
      ],
      "source": [
        "#Programa de controle de qualidade de água#\n",
        "print(\"Insira o nivel de cloro da água para verificar se está dentro do \")\n",
        "saida = True\n",
        "\n",
        "while saida: #Loop infinito//infinity loop#\n",
        "  nivel_cloro = float(input(\"Digite o nivel de cloro em mg/L: \"))\n",
        "\n",
        "    #Verificação se o 0.2 > nivel_cloro < 2.0#\n",
        "\n",
        "  if nivel_cloro < 0.2:\n",
        "    print(\"Atenção: O nível de cloro está abaixo do padrão aceitável!\")\n",
        "  elif nivel_cloro > 2.0:\n",
        "    print(\"Atenção: O nível de cloro está acima do padrão aceitável!\")\n",
        "  else:\n",
        "    print(\"O nível do cloro está dentro dos padrões aceitáveis\")\n",
        "    saida = False"
      ]
    }
  ]
}