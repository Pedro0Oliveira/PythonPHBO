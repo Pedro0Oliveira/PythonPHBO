{
  "nbformat": 4,
  "nbformat_minor": 0,
  "metadata": {
    "colab": {
      "provenance": [],
      "authorship_tag": "ABX9TyO750GWQV4HRqC+E3cSCCAy",
      "include_colab_link": true
    },
    "kernelspec": {
      "name": "python3",
      "display_name": "Python 3"
    },
    "language_info": {
      "name": "python"
    }
  },
  "cells": [
    {
      "cell_type": "markdown",
      "metadata": {
        "id": "view-in-github",
        "colab_type": "text"
      },
      "source": [
        "<a href=\"https://colab.research.google.com/github/Pedro0Oliveira/PythonPHBO/blob/main/Atividade_03_Ph.ipynb\" target=\"_parent\"><img src=\"https://colab.research.google.com/assets/colab-badge.svg\" alt=\"Open In Colab\"/></a>"
      ]
    },
    {
      "cell_type": "markdown",
      "source": [
        "Questão 01 da atividade 03"
      ],
      "metadata": {
        "id": "pWz342bRfnOX"
      }
    },
    {
      "cell_type": "code",
      "execution_count": 2,
      "metadata": {
        "id": "NkZISrkJfiYM",
        "colab": {
          "base_uri": "https://localhost:8080/"
        },
        "outputId": "1c9a3299-cf20-4d17-e6ce-6faea2d5c4be"
      },
      "outputs": [
        {
          "output_type": "stream",
          "name": "stdout",
          "text": [
            "Calculadora de IMC(Índice de massa corporal)\n",
            "Digite seu peso em kg: 40\n",
            "Digite sua altura em metros: 1.70\n",
            "Seu IMC é 13.84, o que é classificado como Desnutrido.\n"
          ]
        }
      ],
      "source": [
        "print(\"Calculadora de IMC(Índice de massa corporal)\")\n",
        "peso = float(input(\"Digite seu peso em kg: \"))\n",
        "altura = float(input(\"Digite sua altura em metros: \"))\n",
        "\n",
        "\n",
        "imc = peso / (altura * altura)\n",
        "\n",
        "\n",
        "if imc < 18.5:\n",
        "    classificacao = \"Desnutrido\"\n",
        "elif 18.5 <= imc < 25:\n",
        "    classificacao = \"Peso normal\"\n",
        "elif 25 <= imc < 30:\n",
        "    classificacao = \"Sobrepeso\"\n",
        "else:\n",
        "    classificacao = \"Obesidade\"\n",
        "\n",
        "\n",
        "print(f\"Seu IMC é {imc:.2f}, o que é classificado como {classificacao}.\")"
      ]
    },
    {
      "cell_type": "markdown",
      "source": [
        "Questão 02 da atividade 03"
      ],
      "metadata": {
        "id": "sdQ2xp4jiOuA"
      }
    },
    {
      "cell_type": "code",
      "source": [
        "print(\"Verificador de número  par ou impar\")\n",
        "numero = int(input(\"Digite um número inteiro: \"))\n",
        "\n",
        "if numero % 2 == 0:\n",
        "\n",
        "    print(f\"O número {numero} é par.\")\n",
        "else:\n",
        "\n",
        "    print(f\"O número {numero} é ímpar.\")"
      ],
      "metadata": {
        "id": "a6M2IU4ViPFA",
        "colab": {
          "base_uri": "https://localhost:8080/"
        },
        "outputId": "c5ab7aad-c394-4804-e44d-f24af56d99d8"
      },
      "execution_count": 3,
      "outputs": [
        {
          "output_type": "stream",
          "name": "stdout",
          "text": [
            "Verificador de número  par ou impar\n",
            "Digite um número inteiro: 2\n",
            "O número 2 é par.\n"
          ]
        }
      ]
    },
    {
      "cell_type": "markdown",
      "source": [
        "Questão 03 da atividade 03"
      ],
      "metadata": {
        "id": "TaPHuoNuiPYv"
      }
    },
    {
      "cell_type": "code",
      "source": [
        "print(\"Conversor de temperatura\")\n",
        "celsius = float(input(\"Digite a temperatura em Celsius: \"))\n",
        "\n",
        "fahrenheit = celsius * 9/5 + 32\n",
        "\n",
        "print(\"A temperatura em Fahrenheit é:\", fahrenheit)"
      ],
      "metadata": {
        "id": "J22r9DU8iPq3",
        "colab": {
          "base_uri": "https://localhost:8080/"
        },
        "outputId": "56b5cd03-90d4-4ce1-ad74-72dcc1eb5285"
      },
      "execution_count": 4,
      "outputs": [
        {
          "output_type": "stream",
          "name": "stdout",
          "text": [
            "Conversor de temperatura\n",
            "Digite a temperatura em Celsius: 45\n",
            "A temperatura em Fahrenheit é: 113.0\n"
          ]
        }
      ]
    },
    {
      "cell_type": "markdown",
      "source": [
        "Questão 04 da atividade 03"
      ],
      "metadata": {
        "id": "NvPOJBOOiP9g"
      }
    },
    {
      "cell_type": "code",
      "source": [
        "print(\"Tabuada de multiplicação\")\n",
        "numero = int(input(\"Digite um número: \"))\n",
        "\n",
        "print(f\"Tabuada de multiplicação para o número {numero}:\")\n",
        "for i in range(1, 11):\n",
        "    resultado = numero * i\n",
        "    print(f\"{numero} x {i} = {resultado}\")"
      ],
      "metadata": {
        "id": "DefQMTy8iQO3",
        "colab": {
          "base_uri": "https://localhost:8080/"
        },
        "outputId": "46270fcd-b9f7-4eeb-be19-b536897a3e4b"
      },
      "execution_count": 5,
      "outputs": [
        {
          "output_type": "stream",
          "name": "stdout",
          "text": [
            "Tabuada de multiplicação\n",
            "Digite um número: 4\n",
            "Tabuada de multiplicação para o número 4:\n",
            "4 x 1 = 4\n",
            "4 x 2 = 8\n",
            "4 x 3 = 12\n",
            "4 x 4 = 16\n",
            "4 x 5 = 20\n",
            "4 x 6 = 24\n",
            "4 x 7 = 28\n",
            "4 x 8 = 32\n",
            "4 x 9 = 36\n",
            "4 x 10 = 40\n"
          ]
        }
      ]
    },
    {
      "cell_type": "markdown",
      "source": [
        "Questão 05 da atividade 03"
      ],
      "metadata": {
        "id": "BCMyLJLdiQd4"
      }
    },
    {
      "cell_type": "code",
      "source": [
        "print(\"Calculo de media ponderada\")\n",
        "nota1 = float(input(\"Digite a primeira nota: \"))\n",
        "peso1 = float(input(\"Digite o peso da primeira nota: \"))\n",
        "nota2 = float(input(\"Digite a segunda nota: \"))\n",
        "peso2 = float(input(\"Digite o peso da segunda nota: \"))\n",
        "nota3 = float(input(\"Digite a terceira nota: \"))\n",
        "peso3 = float(input(\"Digite o peso da terceira nota: \"))\n",
        "\n",
        "soma_pesos = peso1 + peso2 + peso3\n",
        "media_ponderada = (nota1 * peso1 + nota2 * peso2 + nota3 * peso3) / soma_pesos\n",
        "\n",
        "print(\"A média ponderada das notas é:\", media_ponderada)"
      ],
      "metadata": {
        "id": "EyFB8pg1iQuo",
        "colab": {
          "base_uri": "https://localhost:8080/"
        },
        "outputId": "4350f368-40a6-4e9a-c39b-cb8102c048c1"
      },
      "execution_count": 6,
      "outputs": [
        {
          "output_type": "stream",
          "name": "stdout",
          "text": [
            "Calculo de media ponderada\n",
            "Digite a primeira nota: 10\n",
            "Digite o peso da primeira nota: 3\n",
            "Digite a segunda nota: 8\n",
            "Digite o peso da segunda nota: 5\n",
            "Digite a terceira nota: 12\n",
            "Digite o peso da terceira nota: 5\n",
            "A média ponderada das notas é: 10.0\n"
          ]
        }
      ]
    },
    {
      "cell_type": "markdown",
      "source": [
        "Questão 06 da atividade 03"
      ],
      "metadata": {
        "id": "VAC-3msWieyw"
      }
    },
    {
      "cell_type": "code",
      "source": [
        "print(\"Verificador de ano bissexto\")\n",
        "ano = int(input(\"Digite um ano: \"))\n",
        "\n",
        "if ano % 4 == 0 and (ano % 100 != 0 or ano % 400 == 0):\n",
        "    print(\"O ano é bissexto.\")\n",
        "else:\n",
        "    print(\"O ano não é bissexto.\")"
      ],
      "metadata": {
        "id": "VwdaonS1ifH4",
        "colab": {
          "base_uri": "https://localhost:8080/"
        },
        "outputId": "8886badc-dc8b-4a36-dd38-bbbdf1edd281"
      },
      "execution_count": 7,
      "outputs": [
        {
          "output_type": "stream",
          "name": "stdout",
          "text": [
            "Verificador de ano bissexto\n",
            "Digite um ano: 2017\n",
            "O ano não é bissexto.\n"
          ]
        }
      ]
    },
    {
      "cell_type": "markdown",
      "source": [
        "Questão 07 da atividade 03"
      ],
      "metadata": {
        "id": "T7zKUn47ig04"
      }
    },
    {
      "cell_type": "code",
      "source": [
        "print(\"Contador de vogais\")\n",
        "string = input(\"Digite uma frase ou palavra: \")\n",
        "\n",
        "cont_vogais = 0\n",
        "\n",
        "for char in string:\n",
        "\n",
        "    if char.lower() in 'aeiou':\n",
        "        cont_vogais += 1\n",
        "\n",
        "\n",
        "print(f\"O número de vogais na string é: {cont_vogais}\")"
      ],
      "metadata": {
        "id": "0amPyEZmiiQH",
        "colab": {
          "base_uri": "https://localhost:8080/"
        },
        "outputId": "f521e86e-19f9-4f40-8e1e-4fc755453bdb"
      },
      "execution_count": 8,
      "outputs": [
        {
          "output_type": "stream",
          "name": "stdout",
          "text": [
            "Contador de vogais\n",
            "Digite uma frase ou palavra: Diogenes, o sinico\n",
            "O número de vogais na string é: 8\n"
          ]
        }
      ]
    },
    {
      "cell_type": "markdown",
      "source": [
        "Questão 08 da atividade 03"
      ],
      "metadata": {
        "id": "ii7p10kriipv"
      }
    },
    {
      "cell_type": "code",
      "source": [
        "print(\"calculadora de fatorial\")\n",
        "numero = int(input(\"Digite um número inteiro positivo: \"))\n",
        "\n",
        "if numero < 0:\n",
        "    print(\"O número deve ser positivo.\")\n",
        "else:\n",
        "\n",
        "    fatorial = 1\n",
        "\n",
        "    for i in range(1, numero + 1):\n",
        "        fatorial *= i\n",
        "\n",
        "    print(f\"O fatorial de {numero} é: {fatorial}\")"
      ],
      "metadata": {
        "id": "Vj0SvYcIij2n",
        "colab": {
          "base_uri": "https://localhost:8080/"
        },
        "outputId": "e346e05b-10c4-4931-a336-d2f06a00bf14"
      },
      "execution_count": 9,
      "outputs": [
        {
          "output_type": "stream",
          "name": "stdout",
          "text": [
            "calculadora de fatorial\n",
            "Digite um número inteiro positivo: 8\n",
            "O fatorial de 8 é: 40320\n"
          ]
        }
      ]
    },
    {
      "cell_type": "markdown",
      "source": [
        "Questão 09 da atividade 03"
      ],
      "metadata": {
        "id": "zMeoRSDEikGA"
      }
    },
    {
      "cell_type": "code",
      "source": [
        "print(\"Soma de números pares em um intervalo\")\n",
        "inicio = int(input(\"Digite o primeiro número do intervalo: \"))\n",
        "fim = int(input(\"Digite o último número do intervalo: \"))\n",
        "\n",
        "soma_pares = 0\n",
        "\n",
        "for num in range(inicio, fim + 1):\n",
        "    if num % 2 == 0:\n",
        "        soma_pares += num\n",
        "\n",
        "print(f\"A soma dos números pares de {inicio} a {fim} é: {soma_pares}\")"
      ],
      "metadata": {
        "id": "IPhva5uYilzh",
        "colab": {
          "base_uri": "https://localhost:8080/"
        },
        "outputId": "df74203f-e1d1-4077-bbf7-e79db4289c1d"
      },
      "execution_count": 10,
      "outputs": [
        {
          "output_type": "stream",
          "name": "stdout",
          "text": [
            "Soma de números pares em um intervalo\n",
            "Digite o primeiro número do intervalo: 10\n",
            "Digite o último número do intervalo: 2\n",
            "A soma dos números pares de 10 a 2 é: 0\n"
          ]
        }
      ]
    },
    {
      "cell_type": "markdown",
      "source": [
        "Questão 10 da atividade 03"
      ],
      "metadata": {
        "id": "EXY30tmWimDn"
      }
    },
    {
      "cell_type": "code",
      "source": [
        "print(\"Verificador de número primo\")\n",
        "numero = int(input(\"Digite um número inteiro positivo: \"))\n",
        "\n",
        "if numero <= 1:\n",
        "    primo = False\n",
        "else:\n",
        "    primo = True\n",
        "    for i in range(2, int(numero**0.5) + 1):\n",
        "        if numero % i == 0:\n",
        "            primo = False\n",
        "            break\n",
        "\n",
        "if primo:\n",
        "    print(f\"{numero} é um número primo.\")\n",
        "else:\n",
        "    print(f\"{numero} não é um número primo.\")"
      ],
      "metadata": {
        "id": "QsLOqcmtinr3",
        "colab": {
          "base_uri": "https://localhost:8080/"
        },
        "outputId": "c3df9770-7182-454b-ed25-049ba2a08c7a"
      },
      "execution_count": 11,
      "outputs": [
        {
          "output_type": "stream",
          "name": "stdout",
          "text": [
            "Verificador de número primo\n",
            "Digite um número inteiro positivo: 30\n",
            "30 não é um número primo.\n"
          ]
        }
      ]
    }
  ]
}