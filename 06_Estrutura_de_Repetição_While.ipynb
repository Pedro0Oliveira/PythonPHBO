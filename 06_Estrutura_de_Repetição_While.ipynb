{
  "nbformat": 4,
  "nbformat_minor": 0,
  "metadata": {
    "colab": {
      "provenance": [],
      "authorship_tag": "ABX9TyOLZ3Qyj6io/VsIDN7e50Am",
      "include_colab_link": true
    },
    "kernelspec": {
      "name": "python3",
      "display_name": "Python 3"
    },
    "language_info": {
      "name": "python"
    }
  },
  "cells": [
    {
      "cell_type": "markdown",
      "metadata": {
        "id": "view-in-github",
        "colab_type": "text"
      },
      "source": [
        "<a href=\"https://colab.research.google.com/github/Pedro0Oliveira/PythonPHBO/blob/main/06_Estrutura_de_Repeti%C3%A7%C3%A3o_While.ipynb\" target=\"_parent\"><img src=\"https://colab.research.google.com/assets/colab-badge.svg\" alt=\"Open In Colab\"/></a>"
      ]
    },
    {
      "cell_type": "markdown",
      "source": [
        "Codigo Contador"
      ],
      "metadata": {
        "id": "HeskpaQxcbeV"
      }
    },
    {
      "cell_type": "code",
      "execution_count": null,
      "metadata": {
        "id": "KfScjqOIblYU"
      },
      "outputs": [],
      "source": [
        "x = 'texto'\n",
        "i = 0\n",
        "while x:\n",
        "#End, nessa ocasião, serve para dar espaço#\n",
        "  print(x, end = ' ')\n",
        "  print(i)\n",
        "  i = i + 1 #Nome dessa estrutura é contador incremental#"
      ]
    },
    {
      "cell_type": "markdown",
      "source": [
        "Proximo Codigo(Baseado no anterior)"
      ],
      "metadata": {
        "id": "8kBuxlw9eiHE"
      }
    },
    {
      "cell_type": "code",
      "source": [
        "x = 'texto'\n",
        "i = 1000\n",
        "print (i)\n",
        "while x:\n",
        "  print(x, end = ' ')\n",
        "  #x = x[1:]#  #Decrementa o texto(Não variavel)#\n",
        "  i = i - 1#Contador decremental#\n"
      ],
      "metadata": {
        "id": "vnLLBheXerJJ"
      },
      "execution_count": null,
      "outputs": []
    },
    {
      "cell_type": "markdown",
      "source": [
        "Contador decremental de string"
      ],
      "metadata": {
        "id": "WYXifsHDiloE"
      }
    },
    {
      "cell_type": "code",
      "source": [
        "from re import I\n",
        "x = 'Pedro'\n",
        "while x:\n",
        "  print (x, end = ' ')\n",
        "  x = x[1:]"
      ],
      "metadata": {
        "colab": {
          "base_uri": "https://localhost:8080/"
        },
        "id": "O41ghtooinQy",
        "outputId": "759380d8-bc28-4d17-9491-71175bd4fc36"
      },
      "execution_count": 33,
      "outputs": [
        {
          "output_type": "stream",
          "name": "stdout",
          "text": [
            "Pedro edro dro ro o "
          ]
        }
      ]
    },
    {
      "cell_type": "markdown",
      "source": [
        "Calculadora de numeros impares"
      ],
      "metadata": {
        "id": "ySCmUdpXjTAM"
      }
    },
    {
      "cell_type": "code",
      "source": [
        "x = 10\n",
        "while x:\n",
        "  #print (\"Valor de x é:\")\n",
        "  #print (x)\n",
        "  #print (\"O resultado da divisão é: \")\n",
        "  a = (x % 2)\n",
        "  #print (a)\n",
        "  x-=1\n",
        "  if x % 2 !=1:#A exclamação serve para indicar \"diferente\"#\n",
        "    continue\n",
        "  print (x, end = ' ')"
      ],
      "metadata": {
        "colab": {
          "base_uri": "https://localhost:8080/"
        },
        "id": "GaDRxJ_6jT8k",
        "outputId": "835a9cf7-63df-4a2d-b2d4-f97af27340a0"
      },
      "execution_count": 31,
      "outputs": [
        {
          "output_type": "stream",
          "name": "stdout",
          "text": [
            "9 7 5 3 1 "
          ]
        }
      ]
    },
    {
      "cell_type": "markdown",
      "source": [
        "Calculadora de números pares"
      ],
      "metadata": {
        "id": "Q2nKXcUHm3oF"
      }
    },
    {
      "cell_type": "code",
      "source": [
        "x = 10\n",
        "while x:\n",
        "  #print (\"Valor de x é:\")\n",
        "  #print (x)\n",
        "  #print (\"O resultado da divisão é: \")\n",
        "  a = (x % 2)\n",
        "  #print (a)\n",
        "  x-=1\n",
        "  if x % 2 !=0:#A exclamação serve para indicar \"diferente\"#\n",
        "    continue\n",
        "  print (x, end = ' ')"
      ],
      "metadata": {
        "colab": {
          "base_uri": "https://localhost:8080/"
        },
        "id": "5hWmRD5Gm6vk",
        "outputId": "f43d8c14-b85e-4021-dc36-40332e0fd542"
      },
      "execution_count": 32,
      "outputs": [
        {
          "output_type": "stream",
          "name": "stdout",
          "text": [
            "8 6 4 2 0 "
          ]
        }
      ]
    },
    {
      "cell_type": "markdown",
      "source": [
        "Calculadora experimental(Modificada durante a aula)"
      ],
      "metadata": {
        "id": "Cu6UwcDXnIiF"
      }
    },
    {
      "cell_type": "code",
      "source": [
        "x = 10\n",
        "while x:\n",
        "  #print (\"Valor de x é:\") #Informação de debbuging(Ou, em português, depuração)\n",
        "  #print (x)\n",
        "  #print (\"O resultado da divisão é: \")\n",
        "  a = (x % 2)\n",
        "  #print (a)\n",
        "  x-=1\n",
        "  #A exclamação serve para indicar \"diferente\"#\n",
        "  #if x % 2 != 0: #Comparação da diferença, quando o resto da divisão for diferente de 0#\n",
        "\n",
        "  if x % 2 == 1: #Comparação da igualdade, se o resto da divisão for igual a 1 -> contador de numeros pares\n",
        "\n",
        "  #if % 2 != 1: #Comparação da diferença, quando o resto da divisão for diferente de 1 -> contador de impares\n",
        "    continue\n",
        "  print (x, end = ' ')"
      ],
      "metadata": {
        "colab": {
          "base_uri": "https://localhost:8080/"
        },
        "id": "lrYkG3o2nH4O",
        "outputId": "dfd81a8d-84b4-414a-83a7-07004dac9afc"
      },
      "execution_count": 36,
      "outputs": [
        {
          "output_type": "stream",
          "name": "stdout",
          "text": [
            "8 6 4 2 0 "
          ]
        }
      ]
    },
    {
      "cell_type": "markdown",
      "source": [
        "Implementação correlacionada com o crivo de eratóstenes"
      ],
      "metadata": {
        "id": "CcCJS3J_qrZq"
      }
    },
    {
      "cell_type": "code",
      "source": [
        "#O algoritmo verifica se um numero y é primo ao tentar dividir y por todos os números inteiros menores que y#\n",
        "#e maior que 1, imprimindo os fatores de y ou indicando que y é primo.#\n",
        "\n",
        "y = 7 #Coloca os numeros que quer testar aqui#\n",
        "\n",
        "x = y // 2   #A // serve para pegar somente a parte inteira#\n",
        "while x>1:\n",
        "  if y % x == 0:  # % serve para pegar o resto da divisão#\n",
        "\n",
        "    print('Composto: ',y, 'tem fator', x)\n",
        "    break\n",
        "  x-=1\n",
        "else:\n",
        "  print(y, \"Numero primo\")"
      ],
      "metadata": {
        "colab": {
          "base_uri": "https://localhost:8080/"
        },
        "id": "RiESe3OYqyLw",
        "outputId": "6e61ac2b-2632-4127-e2d2-d2079f13a2a9"
      },
      "execution_count": 38,
      "outputs": [
        {
          "output_type": "stream",
          "name": "stdout",
          "text": [
            "7 Numero primo\n"
          ]
        }
      ]
    }
  ]
}