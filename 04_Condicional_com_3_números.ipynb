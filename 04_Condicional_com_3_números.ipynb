{
  "nbformat": 4,
  "nbformat_minor": 0,
  "metadata": {
    "colab": {
      "provenance": [],
      "authorship_tag": "ABX9TyN6V1lOlw3F9K36vqYVC5aV",
      "include_colab_link": true
    },
    "kernelspec": {
      "name": "python3",
      "display_name": "Python 3"
    },
    "language_info": {
      "name": "python"
    }
  },
  "cells": [
    {
      "cell_type": "markdown",
      "metadata": {
        "id": "view-in-github",
        "colab_type": "text"
      },
      "source": [
        "<a href=\"https://colab.research.google.com/github/Pedro0Oliveira/PythonPHBO/blob/main/04_Condicional_com_3_n%C3%BAmeros.ipynb\" target=\"_parent\"><img src=\"https://colab.research.google.com/assets/colab-badge.svg\" alt=\"Open In Colab\"/></a>"
      ]
    },
    {
      "cell_type": "markdown",
      "source": [
        "Codigo condicional"
      ],
      "metadata": {
        "id": "Ua4Ft68nvYoz"
      }
    },
    {
      "cell_type": "code",
      "execution_count": 11,
      "metadata": {
        "id": "fxCA76MBO8-I",
        "colab": {
          "base_uri": "https://localhost:8080/"
        },
        "outputId": "4ea11b16-cd82-4ada-e335-0295fc56b51d"
      },
      "outputs": [
        {
          "output_type": "stream",
          "name": "stdout",
          "text": [
            "50\n"
          ]
        }
      ],
      "source": [
        "#Criando um codigo condicional, apartir de 3 variaveis \"a\", \"b\", \"c\".#\n",
        "#a = 10\n",
        "#b = 20\n",
        "#c = 30\n",
        "#d = 40\n",
        "#e = 50\n",
        "\n",
        "#if a < b:\n",
        "  #if b < c:\n",
        "    #print(c)\n",
        "  #else:\n",
        "    #print(b)\n",
        "#else:\n",
        "  #if a < c:\n",
        "    #print(c)\n",
        "  #else:\n",
        "    #print(a)\n",
        "\n",
        "#Simplificando com funções do python fica:#\n",
        "a = 10\n",
        "b = 20\n",
        "c = 30\n",
        "d = 40\n",
        "e = 50\n",
        "\n",
        "print(max(a,b,c,d,e))\n",
        "#Max serve para pegar o maximo(Número) das variaveis#"
      ]
    }
  ]
}