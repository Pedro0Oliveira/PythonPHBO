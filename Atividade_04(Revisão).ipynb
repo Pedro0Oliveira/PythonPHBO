{
  "nbformat": 4,
  "nbformat_minor": 0,
  "metadata": {
    "colab": {
      "provenance": [],
      "authorship_tag": "ABX9TyNVvjB8tu7V3Qpu06ztauYu",
      "include_colab_link": true
    },
    "kernelspec": {
      "name": "python3",
      "display_name": "Python 3"
    },
    "language_info": {
      "name": "python"
    }
  },
  "cells": [
    {
      "cell_type": "markdown",
      "metadata": {
        "id": "view-in-github",
        "colab_type": "text"
      },
      "source": [
        "<a href=\"https://colab.research.google.com/github/Pedro0Oliveira/PythonPHBO/blob/main/Atividade_04(Revis%C3%A3o).ipynb\" target=\"_parent\"><img src=\"https://colab.research.google.com/assets/colab-badge.svg\" alt=\"Open In Colab\"/></a>"
      ]
    },
    {
      "cell_type": "markdown",
      "source": [
        "Questão 1"
      ],
      "metadata": {
        "id": "14bOrvfrKD_m"
      }
    },
    {
      "cell_type": "code",
      "execution_count": null,
      "metadata": {
        "id": "FjuGUyQPJ7_r",
        "colab": {
          "base_uri": "https://localhost:8080/"
        },
        "outputId": "ed73fb32-bba3-4df8-8ce9-151b34e9fdee"
      },
      "outputs": [
        {
          "output_type": "stream",
          "name": "stdout",
          "text": [
            "Olá, Mundo!!\n"
          ]
        }
      ],
      "source": [
        "message = \"Olá, Mundo!!\"\n",
        "print(message)"
      ]
    },
    {
      "cell_type": "markdown",
      "source": [
        "Questão 2"
      ],
      "metadata": {
        "id": "9DjHM5L1cGcC"
      }
    },
    {
      "cell_type": "code",
      "source": [
        "n1 = float(input(\"Digite a 1º nota(com peso 2): \"))\n",
        "n2 = float(input(\"Digite a 2º nota(com peso 3): \"))\n",
        "n3 = float(input(\"Digite a 3º nota(com peso 4): \"))\n",
        "\n",
        "media = (n1*2 + n2*3 + n3*4) / 9\n",
        "print(f\"Sua media é: {media:.2f}\")"
      ],
      "metadata": {
        "colab": {
          "base_uri": "https://localhost:8080/"
        },
        "id": "okdzIoPIcI_J",
        "outputId": "d699cf2f-a2a6-4952-e674-f447cb4e3b0e"
      },
      "execution_count": null,
      "outputs": [
        {
          "output_type": "stream",
          "name": "stdout",
          "text": [
            "Digite a 1º nota(com peso 2): 2.9\n",
            "Digite a 2º nota(com peso 3): 8.0\n",
            "Digite a 3º nota(com peso 4): 9.7\n",
            "Sua media é: 7.62\n"
          ]
        }
      ]
    },
    {
      "cell_type": "markdown",
      "source": [
        "Questão 3"
      ],
      "metadata": {
        "id": "wdoRG3wZdmnW"
      }
    },
    {
      "cell_type": "code",
      "source": [
        "notas = []\n",
        "while True:\n",
        "  nota = input(\"Digite uma nota (ou 's' para sair): \")\n",
        "  if nota.lower() == 's':\n",
        "    break\n",
        "  notas.append(float(nota))\n",
        "\n",
        "if notas:\n",
        "  print(\"A média das notas é:\", sum(notas) / len(notas))\n",
        "else:\n",
        "  print(\"Nenhuma nota foi inserida.\")"
      ],
      "metadata": {
        "id": "Rw2mCDOkdoge",
        "colab": {
          "base_uri": "https://localhost:8080/"
        },
        "outputId": "97fbd3c0-1949-4ad5-dfe0-0b2a7ba399f9"
      },
      "execution_count": 6,
      "outputs": [
        {
          "output_type": "stream",
          "name": "stdout",
          "text": [
            "Digite uma nota (ou 's' para sair): 2.8\n",
            "Digite uma nota (ou 's' para sair): 9.6\n",
            "Digite uma nota (ou 's' para sair): 10\n",
            "Digite uma nota (ou 's' para sair): 1.0\n",
            "Digite uma nota (ou 's' para sair): s\n",
            "A média das notas é: 5.85\n"
          ]
        }
      ]
    },
    {
      "cell_type": "markdown",
      "source": [
        "Questão 4"
      ],
      "metadata": {
        "id": "iUgXdLiSfcBk"
      }
    },
    {
      "cell_type": "code",
      "source": [
        "a = float(input(\"Escreva o primeiro número: \"))\n",
        "b = float(input(\"Escreva o segundo número: \"))\n",
        "c = float(input(\"Escreva o terceiro número: \"))\n",
        "\n",
        "print(max(a,b,c))"
      ],
      "metadata": {
        "id": "P7YI6sv_fdoL",
        "colab": {
          "base_uri": "https://localhost:8080/"
        },
        "outputId": "49886ae2-28a4-48f0-8f98-eebf7136603f"
      },
      "execution_count": 9,
      "outputs": [
        {
          "output_type": "stream",
          "name": "stdout",
          "text": [
            "Escreva o primeiro número: 3\n",
            "Escreva o segundo número: 5\n",
            "Escreva o terceiro número: 10\n",
            "10.0\n"
          ]
        }
      ]
    },
    {
      "cell_type": "markdown",
      "source": [
        "Questão 5"
      ],
      "metadata": {
        "id": "qONhMgDpfd3c"
      }
    },
    {
      "cell_type": "code",
      "source": [
        "while True:\n",
        "  nivelph = float(input(\"Digite o nivel de cloro em mg/L: \"))\n",
        "\n",
        "  if nivelph < 7.0:\n",
        "    print(\"Atenção: O nível de ph está abaixo do padrão aceitável!\")\n",
        "  elif nivelph > 7.0:\n",
        "    print(\"Atenção: O nível de ph está acima do padrão aceitável!\")\n",
        "  else:\n",
        "    print(\"O nível do ph está dentro dos padrões aceitáveis\")\n",
        "    break"
      ],
      "metadata": {
        "id": "5AdRDHA4ffRE",
        "colab": {
          "base_uri": "https://localhost:8080/"
        },
        "outputId": "d287f15b-385c-4889-b1b6-20ed0a7338af"
      },
      "execution_count": 15,
      "outputs": [
        {
          "output_type": "stream",
          "name": "stdout",
          "text": [
            "Digite o nivel de cloro em mg/L: 7.0\n",
            "O nível do ph está dentro dos padrões aceitáveis\n"
          ]
        }
      ]
    },
    {
      "cell_type": "markdown",
      "source": [
        "Questão 6"
      ],
      "metadata": {
        "id": "eTa-D3kkffm2"
      }
    },
    {
      "cell_type": "code",
      "source": [
        "numero = 1\n",
        "soma = 0\n",
        "\n",
        "while numero <= 100:\n",
        "  soma += numero\n",
        "  numero += 1\n",
        "\n",
        "print(\"A soma dos números de 1 a 100 é:\", soma)"
      ],
      "metadata": {
        "id": "-Z2DEeWFfhbs",
        "colab": {
          "base_uri": "https://localhost:8080/"
        },
        "outputId": "38a85a56-f834-4ed9-8b28-95ecfa994c41"
      },
      "execution_count": 10,
      "outputs": [
        {
          "output_type": "stream",
          "name": "stdout",
          "text": [
            "A soma dos números de 1 a 100 é: 5050\n"
          ]
        }
      ]
    },
    {
      "cell_type": "markdown",
      "source": [
        "Questão 7"
      ],
      "metadata": {
        "id": "jbcW45oXfh9k"
      }
    },
    {
      "cell_type": "code",
      "source": [
        "for numero in range(1, 51):\n",
        "  if numero % 2 != 0:\n",
        "    print(numero)"
      ],
      "metadata": {
        "colab": {
          "base_uri": "https://localhost:8080/"
        },
        "id": "W7s05_0pflbE",
        "outputId": "765ae5d5-6cb2-4cb8-f2ed-c749fa5b6583"
      },
      "execution_count": 11,
      "outputs": [
        {
          "output_type": "stream",
          "name": "stdout",
          "text": [
            "1\n",
            "3\n",
            "5\n",
            "7\n",
            "9\n",
            "11\n",
            "13\n",
            "15\n",
            "17\n",
            "19\n",
            "21\n",
            "23\n",
            "25\n",
            "27\n",
            "29\n",
            "31\n",
            "33\n",
            "35\n",
            "37\n",
            "39\n",
            "41\n",
            "43\n",
            "45\n",
            "47\n",
            "49\n"
          ]
        }
      ]
    },
    {
      "cell_type": "markdown",
      "source": [
        "Questão 8"
      ],
      "metadata": {
        "id": "tCKrHbHOfln8"
      }
    },
    {
      "cell_type": "code",
      "source": [
        "dicionario = {\"nome\": \"João\", \"idade\": 30, \"cidade\": \"São Paulo\"}\n",
        "\n",
        "idade = dicionario[\"idade\"]\n",
        "\n",
        "dicionario[\"profissao\"] = \"Engenheiro\"\n",
        "\n",
        "del dicionario[\"cidade\"]\n",
        "if \"nome\" in dicionario:\n",
        "  print(\"A chave 'nome' existe no dicionário\")"
      ],
      "metadata": {
        "id": "Cc1uwnpHfm8c",
        "colab": {
          "base_uri": "https://localhost:8080/"
        },
        "outputId": "98377a9a-544e-4618-afa1-96a50b325d2c"
      },
      "execution_count": 13,
      "outputs": [
        {
          "output_type": "stream",
          "name": "stdout",
          "text": [
            "A chave 'nome' existe no dicionário\n"
          ]
        }
      ]
    }
  ]
}