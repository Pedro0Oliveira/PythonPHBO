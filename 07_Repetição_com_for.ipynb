{
  "nbformat": 4,
  "nbformat_minor": 0,
  "metadata": {
    "colab": {
      "provenance": [],
      "authorship_tag": "ABX9TyMnTfEpjfy4TOUuinSBkP28",
      "include_colab_link": true
    },
    "kernelspec": {
      "name": "python3",
      "display_name": "Python 3"
    },
    "language_info": {
      "name": "python"
    }
  },
  "cells": [
    {
      "cell_type": "markdown",
      "metadata": {
        "id": "view-in-github",
        "colab_type": "text"
      },
      "source": [
        "<a href=\"https://colab.research.google.com/github/Pedro0Oliveira/PythonPHBO/blob/main/07_Repeti%C3%A7%C3%A3o_com_for.ipynb\" target=\"_parent\"><img src=\"https://colab.research.google.com/assets/colab-badge.svg\" alt=\"Open In Colab\"/></a>"
      ]
    },
    {
      "cell_type": "markdown",
      "source": [
        "Primeiro codigo da aula"
      ],
      "metadata": {
        "id": "0VdMeLEBgnDM"
      }
    },
    {
      "cell_type": "code",
      "execution_count": 3,
      "metadata": {
        "colab": {
          "base_uri": "https://localhost:8080/"
        },
        "id": "augJGnmgc7ZU",
        "outputId": "54e5c8e1-cbc4-4425-e7de-4a8fa3cf63d5"
      },
      "outputs": [
        {
          "output_type": "stream",
          "name": "stdout",
          "text": [
            "1º spam\n",
            "2º eggs\n",
            "3º bacon\n"
          ]
        }
      ],
      "source": [
        "contador = 0 #Importante saber como e quando usar o contador#\n",
        "for x in ['spam', 'eggs', 'bacon']: # in é a mesma coisa que em/onde#\n",
        "  contador += 1\n",
        "  print(f\"{contador}º {x}\")# f serve para formatar/separar as variaveis em um print#"
      ]
    },
    {
      "cell_type": "markdown",
      "source": [
        "Segundo codigo da aula"
      ],
      "metadata": {
        "id": "JOMJCWwxj7eV"
      }
    },
    {
      "cell_type": "code",
      "source": [
        "T = [(1,2), (3,4), (5,6)]\n",
        "for (a,b) in T:\n",
        "  print(a, \"e\", b)"
      ],
      "metadata": {
        "colab": {
          "base_uri": "https://localhost:8080/"
        },
        "id": "aR92prO_j5xB",
        "outputId": "f8566816-57c3-4bf6-aa7d-45fec72733cd"
      },
      "execution_count": 4,
      "outputs": [
        {
          "output_type": "stream",
          "name": "stdout",
          "text": [
            "1 e 2\n",
            "3 e 4\n",
            "5 e 6\n"
          ]
        }
      ]
    },
    {
      "cell_type": "markdown",
      "source": [
        "Codigo que só da para fazer em python(dicionario)"
      ],
      "metadata": {
        "id": "TPMFtFhmkhtI"
      }
    },
    {
      "cell_type": "code",
      "source": [
        "#Dictionary em python#\n",
        "D = {'a': 1, 'b': 2, 'c': 3}\n",
        "for chave in D:\n",
        "  print(chave, \"=>\", D[chave]) #Se acessa o valor da variavel do dicionario por meio do indice de localidade dele#"
      ],
      "metadata": {
        "colab": {
          "base_uri": "https://localhost:8080/"
        },
        "id": "xFj7w28DkmQ3",
        "outputId": "dc5cb06c-c9af-4bf5-b9e3-d9f41aba12a3"
      },
      "execution_count": 5,
      "outputs": [
        {
          "output_type": "stream",
          "name": "stdout",
          "text": [
            "a => 1\n",
            "b => 2\n",
            "c => 3\n"
          ]
        }
      ]
    },
    {
      "cell_type": "markdown",
      "source": [
        "Terceiro codigo da aula e conceito de list"
      ],
      "metadata": {
        "id": "cKnpqtAJnPIm"
      }
    },
    {
      "cell_type": "code",
      "source": [
        "list(range(10))"
      ],
      "metadata": {
        "colab": {
          "base_uri": "https://localhost:8080/"
        },
        "id": "20lXsPiIncY9",
        "outputId": "3e7be690-c445-4c02-d784-21b3c9f636e2"
      },
      "execution_count": 7,
      "outputs": [
        {
          "output_type": "execute_result",
          "data": {
            "text/plain": [
              "[0, 1, 2, 3, 4, 5, 6, 7, 8, 9]"
            ]
          },
          "metadata": {},
          "execution_count": 7
        }
      ]
    },
    {
      "cell_type": "code",
      "source": [
        "for i in range(5):\n",
        "  print(i, \"pythons\")"
      ],
      "metadata": {
        "colab": {
          "base_uri": "https://localhost:8080/"
        },
        "id": "bmqRn1wdnRcF",
        "outputId": "c79804ed-737c-4afd-bbc4-5c735abd07d1"
      },
      "execution_count": 6,
      "outputs": [
        {
          "output_type": "stream",
          "name": "stdout",
          "text": [
            "0 pythons\n",
            "1 pythons\n",
            "2 pythons\n",
            "3 pythons\n",
            "4 pythons\n"
          ]
        }
      ]
    },
    {
      "cell_type": "markdown",
      "source": [
        "Quarto codigo da aula"
      ],
      "metadata": {
        "id": "t9YUXAMUnyw_"
      }
    },
    {
      "cell_type": "code",
      "source": [
        "s = 'moises'\n",
        "print(\"Tamanho da palavra:\", len(s))\n",
        "for i in range(len(s)):\n",
        "  print(i, s[i], sep= '-', end = ' ') #Para pegar letras de uma string e imprimilas se usa s(variavel da string)[i](variavel do for)#\n",
        "  #Quando se define end = ' ' não se quebra mais linha\""
      ],
      "metadata": {
        "colab": {
          "base_uri": "https://localhost:8080/"
        },
        "id": "n5sPGnKUn02e",
        "outputId": "77af28f5-f38a-452f-a274-ae325cc9b250"
      },
      "execution_count": 18,
      "outputs": [
        {
          "output_type": "stream",
          "name": "stdout",
          "text": [
            "Tamanho da palavra: 6\n",
            "0-m 1-o 2-i 3-s 4-e 5-s "
          ]
        }
      ]
    },
    {
      "cell_type": "markdown",
      "source": [
        "Quinto codigo da aula(Com listas e zip)"
      ],
      "metadata": {
        "id": "Sp501dzurGBO"
      }
    },
    {
      "cell_type": "code",
      "source": [
        "L1 = ['a', 'b', 'c', 'd']\n",
        "L2 = [1, 2, 3, 4]\n",
        "print(list(L1))\n",
        "print(list(L2))\n",
        "compactado = zip(L1, L2) #Zip serve para juntar/correlacionar listas#\n",
        "print(list(compactado))\n",
        "print(type(compactado)) #Type serve para verificar a classe da variavel#\n",
        "print(type(list(zip(L1, L2))))\n",
        "for (x,y) in list(zip(L1, L2)):\n",
        "  print(x, \"-\", y)"
      ],
      "metadata": {
        "colab": {
          "base_uri": "https://localhost:8080/"
        },
        "id": "oY7JZHKKrJ8X",
        "outputId": "696d0521-0905-4e3d-cab5-7cc189ddcea5"
      },
      "execution_count": 25,
      "outputs": [
        {
          "output_type": "stream",
          "name": "stdout",
          "text": [
            "['a', 'b', 'c', 'd']\n",
            "[1, 2, 3, 4]\n",
            "[('a', 1), ('b', 2), ('c', 3), ('d', 4)]\n",
            "<class 'zip'>\n",
            "<class 'list'>\n",
            "a - 1\n",
            "b - 2\n",
            "c - 3\n",
            "d - 4\n"
          ]
        }
      ]
    },
    {
      "cell_type": "markdown",
      "source": [
        "Sexto codigo da aula(Com zip)"
      ],
      "metadata": {
        "id": "GeMMKF2xt3Mu"
      }
    },
    {
      "cell_type": "code",
      "source": [
        "#zip vai criar um dictionary a partir de listas#\n",
        "chaves = ['a', 'b', 'c', 'd']\n",
        "valores = [1,2,3,4]\n",
        "D1 = dict(zip(chaves, valores))\n",
        "print(D1)"
      ],
      "metadata": {
        "colab": {
          "base_uri": "https://localhost:8080/"
        },
        "id": "xXDq-yvEt-Uk",
        "outputId": "f577b79c-cbff-488c-ef6e-7bde60d3ff11"
      },
      "execution_count": 27,
      "outputs": [
        {
          "output_type": "stream",
          "name": "stdout",
          "text": [
            "{'a': 1, 'b': 2, 'c': 3, 'd': 4}\n"
          ]
        }
      ]
    },
    {
      "cell_type": "markdown",
      "source": [
        "Codigo com Enumeração"
      ],
      "metadata": {
        "id": "L-jWxUwtuzM2"
      }
    },
    {
      "cell_type": "code",
      "source": [
        "s = 'moises'\n",
        "print(enumerate(s)) #enumerate serve para enumerar strings. resolvendo rapidamente o codigo quatro#\n",
        "print(list(enumerate(s)))\n",
        "for (offset, valor) in enumerate(s):\n",
        "  print(offset, valor)"
      ],
      "metadata": {
        "colab": {
          "base_uri": "https://localhost:8080/"
        },
        "id": "e4QXhIm4u2QG",
        "outputId": "dd84517c-d582-4deb-ecab-b2f38e137b01"
      },
      "execution_count": 30,
      "outputs": [
        {
          "output_type": "stream",
          "name": "stdout",
          "text": [
            "<enumerate object at 0x7daaf9fde500>\n",
            "[(0, 'm'), (1, 'o'), (2, 'i'), (3, 's'), (4, 'e'), (5, 's')]\n",
            "0 m\n",
            "1 o\n",
            "2 i\n",
            "3 s\n",
            "4 e\n",
            "5 s\n"
          ]
        }
      ]
    }
  ]
}