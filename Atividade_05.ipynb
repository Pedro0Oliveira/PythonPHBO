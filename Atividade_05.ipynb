{
  "nbformat": 4,
  "nbformat_minor": 0,
  "metadata": {
    "colab": {
      "provenance": [],
      "authorship_tag": "ABX9TyMI7xYaEppQp6MCanEcjuX1",
      "include_colab_link": true
    },
    "kernelspec": {
      "name": "python3",
      "display_name": "Python 3"
    },
    "language_info": {
      "name": "python"
    }
  },
  "cells": [
    {
      "cell_type": "markdown",
      "metadata": {
        "id": "view-in-github",
        "colab_type": "text"
      },
      "source": [
        "<a href=\"https://colab.research.google.com/github/Pedro0Oliveira/PythonPHBO/blob/main/Atividade_05.ipynb\" target=\"_parent\"><img src=\"https://colab.research.google.com/assets/colab-badge.svg\" alt=\"Open In Colab\"/></a>"
      ]
    },
    {
      "cell_type": "markdown",
      "source": [
        "Questão 1"
      ],
      "metadata": {
        "id": "cVwqVvMkTQzH"
      }
    },
    {
      "cell_type": "code",
      "execution_count": null,
      "metadata": {
        "id": "vUPc3M7zTMul",
        "colab": {
          "base_uri": "https://localhost:8080/"
        },
        "outputId": "84fa657d-c647-45ce-eab3-a0e8e0c56a90"
      },
      "outputs": [
        {
          "output_type": "stream",
          "name": "stdout",
          "text": [
            "Digite um número: -5\n",
            "95\n"
          ]
        }
      ],
      "source": [
        "numero = int(input(\"Digite um número: \"))\n",
        "if numero < 0:\n",
        "  numero = numero + 100\n",
        "  print(numero)\n",
        "else:\n",
        "  print(numero)"
      ]
    },
    {
      "cell_type": "markdown",
      "source": [
        "Questão 2"
      ],
      "metadata": {
        "id": "qrfC1J2sVTpr"
      }
    },
    {
      "cell_type": "code",
      "source": [
        "a = 2024150907\n",
        "b = 2024198609\n",
        "c = 2024567312\n",
        "d = 2024587209\n",
        "e = 2024517138\n",
        "\n",
        "matricula = int(input(\"Digite seu codigo de matricula: \"))\n",
        "if matricula == a:\n",
        "  print(\"O seu curso é o Técnico em Informática Subsequente\")\n",
        "if matricula == b:\n",
        "  print(\"O seu curso é o Técnico em Informática EJA\")\n",
        "if matricula == c:\n",
        "  print(\"O seu curso é o Técnico em Cooperativismo\")\n",
        "if matricula == d:\n",
        "  print(\"O seu curso é o Técnico em Cooperativismo EJA\")\n",
        "if matricula == e:\n",
        "  print(\"O seu curso é o de Licenciatura em Física\")\n",
        "if matricula != a and matricula != b and matricula != c and matricula != d and matricula != e:\n",
        "  print(\"O seu curso é inexistente\")"
      ],
      "metadata": {
        "colab": {
          "base_uri": "https://localhost:8080/"
        },
        "id": "xrI9eEEvVVDK",
        "outputId": "86a68dd2-fdbb-4808-a040-f95ee559484f"
      },
      "execution_count": null,
      "outputs": [
        {
          "output_type": "stream",
          "name": "stdout",
          "text": [
            "Digite seu codigo de matricula: 297172307\n",
            "O seu curso é inexistente\n"
          ]
        }
      ]
    },
    {
      "cell_type": "markdown",
      "source": [
        "Questão 3"
      ],
      "metadata": {
        "id": "sqVz9gsLZugh"
      }
    },
    {
      "cell_type": "code",
      "source": [
        "str1 = input(\"Digite a primeira palavra: \")\n",
        "str2 = input(\"Digite a segunda palavra: \")\n",
        "\n",
        "print(\"Frase 1:\", str1)\n",
        "print(\"Tamanho de\", '\"'+str1+'\"', \":\", len(str1), \"caracteres\")\n",
        "\n",
        "print(\"Frase 2:\", str2)\n",
        "print(\"Tamanho de\", '\"'+str2+'\"', \":\", len(str2), \"caracteres\")\n",
        "\n",
        "resp1 = len(str1) == len(str2)\n",
        "resp2 = (str1 == str2)\n",
        "if resp1 == True:\n",
        "  print(\"As palavras possuem o mesmo tamanho.\")\n",
        "if resp2 == True:\n",
        "  print(\"As palavras são iguais.\")"
      ],
      "metadata": {
        "id": "TGN6Nt-OZwEg",
        "colab": {
          "base_uri": "https://localhost:8080/"
        },
        "outputId": "da94b55b-66ad-4d41-a1b4-aab4e5892725"
      },
      "execution_count": 8,
      "outputs": [
        {
          "output_type": "stream",
          "name": "stdout",
          "text": [
            "Digite a primeira palavra: Flamengo\n",
            "Digite a segunda palavra: Palmeiras\n",
            "Frase 1: Flamengo\n",
            "Tamanho de \"Flamengo\" : 8 caracteres\n",
            "Frase 2: Palmeiras\n",
            "Tamanho de \"Palmeiras\" : 9 caracteres\n"
          ]
        }
      ]
    },
    {
      "cell_type": "markdown",
      "source": [
        "Questão 4"
      ],
      "metadata": {
        "id": "-Y7OPt2vE-7U"
      }
    },
    {
      "cell_type": "code",
      "source": [
        "txt = input(\"Digite uma palavra: \")\n",
        "txt_cortado = txt[2:-2]\n",
        "print(\"O texto cortado fica:\", txt_cortado)"
      ],
      "metadata": {
        "colab": {
          "base_uri": "https://localhost:8080/"
        },
        "id": "peJw25P1E-jE",
        "outputId": "15b14780-d6f7-4530-cd82-cbe1edcd9f84"
      },
      "execution_count": 10,
      "outputs": [
        {
          "output_type": "stream",
          "name": "stdout",
          "text": [
            "Digite uma palavra: Nominal\n",
            "O texto cortado fica: min\n"
          ]
        }
      ]
    }
  ]
}