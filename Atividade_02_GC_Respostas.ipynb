{
  "nbformat": 4,
  "nbformat_minor": 0,
  "metadata": {
    "colab": {
      "provenance": [],
      "authorship_tag": "ABX9TyNo3FUvoo6Bl4lfivaRazsW",
      "include_colab_link": true
    },
    "kernelspec": {
      "name": "python3",
      "display_name": "Python 3"
    },
    "language_info": {
      "name": "python"
    }
  },
  "cells": [
    {
      "cell_type": "markdown",
      "metadata": {
        "id": "view-in-github",
        "colab_type": "text"
      },
      "source": [
        "<a href=\"https://colab.research.google.com/github/Pedro0Oliveira/PythonPHBO/blob/main/Atividade_02_GC_Respostas.ipynb\" target=\"_parent\"><img src=\"https://colab.research.google.com/assets/colab-badge.svg\" alt=\"Open In Colab\"/></a>"
      ]
    },
    {
      "cell_type": "markdown",
      "source": [
        "Questão 1 da atividade número 02"
      ],
      "metadata": {
        "id": "V00yegj8eluF"
      }
    },
    {
      "cell_type": "code",
      "execution_count": 1,
      "metadata": {
        "colab": {
          "base_uri": "https://localhost:8080/"
        },
        "id": "cxqW8Wi0eaTY",
        "outputId": "0c23e3db-c1ca-4fa9-978a-f661bd7ccb8d"
      },
      "outputs": [
        {
          "output_type": "stream",
          "name": "stdout",
          "text": [
            "Calculadora de média ponderada do IFRN\n",
            "Digite a nota 1(com peso 2): 70\n",
            "Nota inválida. Por favor, digite um valor entre 0 e 10.\n"
          ]
        }
      ],
      "source": [
        "print(\"Calculadora de média ponderada do IFRN\")\n",
        "\n",
        "#Flag de validade da nota\n",
        "invalido = 0\n",
        "\n",
        "#Float, tipagem explícita, para garantir número fracionário\n",
        "n1 = float( input(\"Digite a nota 1(com peso 2): \") )\n",
        "if 0 <= n1 <= 10:\n",
        "  print(\"Valor no intervalo\")\n",
        "else:\n",
        "  print(\"Nota inválida. Por favor, digite um valor entre 0 e 10.\")\n",
        "  invalido = 1\n",
        "\n",
        "if invalido == 0:\n",
        "  n2 = float( input(\"Digite a nota 2(com peso 3): \") )\n",
        "  if 0 <= n2 <= 10:\n",
        "    print(\"Valor no intervalo\")\n",
        "  else:\n",
        "    print(\"Nota inválida. Por favor, digite um valor entre 0 e 10.\")\n",
        "    invalido = 1\n",
        "\n",
        "if invalido == 0:\n",
        "  #calculo de media ponderada\n",
        "  media = (n1 * 2 + n2 * 3) / 5\n",
        "\n",
        "  #impressão da média\n",
        "  print(f\"A média ponderada das notas é: {media:.2f}\")\n",
        "\n",
        "  #apresentar se o aluno foi aprovado ou não\n",
        "  if media >= 6:\n",
        "    print(\"Aprovado\")\n",
        "  else:\n",
        "    if media >= 2:\n",
        "      print(\"Prova final\")\n",
        "    else:\n",
        "      print(\"Reprovado\")"
      ]
    },
    {
      "cell_type": "markdown",
      "source": [
        "Questão 02 da atividade 02"
      ],
      "metadata": {
        "id": "B_Wl1l9IesqU"
      }
    },
    {
      "cell_type": "code",
      "source": [
        "print(\"Calculadora de média ponderada do IFRN\")\n",
        "\n",
        "#Flag de validade da nota\n",
        "invalido = 0\n",
        "\n",
        "#Float, tipagem explícita, para garantir número fracionário\n",
        "peso_n1 = float( input(\"Digite o peso da nota 1: \"))\n",
        "n1 = float( input(\"Digite a nota 1: \") )\n",
        "if 0 <= n1 <= 10:\n",
        "  print(\"Valor no intervalo\")\n",
        "else:\n",
        "  print(\"Nota inválida. Por favor, digite um valor entre 0 e 10.\")\n",
        "  invalido = 1\n",
        "\n",
        "if invalido == 0:\n",
        "  peso_n2 = float( input(\"Digite o peso da nota 2: \"))\n",
        "  n2 = float( input(\"Digite a nota 2: \") )\n",
        "  if 0 <= n2 <= 10:\n",
        "    print(\"Valor no intervalo\")\n",
        "  else:\n",
        "    print(\"Nota inválida. Por favor, digite um valor entre 0 e 10.\")\n",
        "    invalido = 1\n",
        "\n",
        "if invalido == 0:\n",
        "  #calculo de media ponderada\n",
        "  media = (n1 * peso_n1 + n2 * peso_n2) / (peso_n1 + peso_n2)\n",
        "\n",
        "  #impressão da média\n",
        "  print(f\"A média ponderada das notas é: {media:.2f}\")\n",
        "\n",
        "  #apresentar se o aluno foi aprovado ou não\n",
        "  if media >= 6:\n",
        "    print(\"Aprovado\")\n",
        "  else:\n",
        "    if media >= 2:\n",
        "      print(\"Prova final\")\n",
        "    else:\n",
        "      print(\"Reprovado\")"
      ],
      "metadata": {
        "colab": {
          "base_uri": "https://localhost:8080/"
        },
        "id": "kcHD2SLEezGE",
        "outputId": "e4ac4407-7f2b-47b9-d968-73c68b5c602a"
      },
      "execution_count": 2,
      "outputs": [
        {
          "output_type": "stream",
          "name": "stdout",
          "text": [
            "Calculadora de média ponderada do IFRN\n",
            "Digite o peso da nota 1: 4\n",
            "Digite a nota 1: 10\n",
            "Valor no intervalo\n",
            "Digite o peso da nota 2: 3\n",
            "Digite a nota 2: 5\n",
            "Valor no intervalo\n",
            "A média ponderada das notas é: 7.86\n",
            "Aprovado\n"
          ]
        }
      ]
    }
  ]
}