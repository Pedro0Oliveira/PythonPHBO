{
  "nbformat": 4,
  "nbformat_minor": 0,
  "metadata": {
    "colab": {
      "provenance": [],
      "authorship_tag": "ABX9TyPIqXt3nt8Oqk08bJfi9yOa",
      "include_colab_link": true
    },
    "kernelspec": {
      "name": "python3",
      "display_name": "Python 3"
    },
    "language_info": {
      "name": "python"
    }
  },
  "cells": [
    {
      "cell_type": "markdown",
      "metadata": {
        "id": "view-in-github",
        "colab_type": "text"
      },
      "source": [
        "<a href=\"https://colab.research.google.com/github/Pedro0Oliveira/PythonPHBO/blob/main/05_Codigo_Repeti%C3%A7%C3%A3o_While.ipynb\" target=\"_parent\"><img src=\"https://colab.research.google.com/assets/colab-badge.svg\" alt=\"Open In Colab\"/></a>"
      ]
    },
    {
      "cell_type": "markdown",
      "source": [
        "Codigo Repetição de controle da qualidade da água."
      ],
      "metadata": {
        "id": "4SID8PLzzruY"
      }
    },
    {
      "cell_type": "code",
      "execution_count": 4,
      "metadata": {
        "colab": {
          "base_uri": "https://localhost:8080/"
        },
        "id": "UwA7hnPXzq7a",
        "outputId": "bae10d0c-7531-4f06-9349-8372721d3a67"
      },
      "outputs": [
        {
          "output_type": "stream",
          "name": "stdout",
          "text": [
            "Insira o nivel de cloro da água para verificar se está dentro do \n",
            "Digite o nivel de cloro em mg/L: 5\n",
            "Atenção: O nível de cloro está acima do padrão aceitável!\n",
            "Digite o nivel de cloro em mg/L: 1.3\n",
            "O nível do cloro está dentro dos padrões aceitáveis\n"
          ]
        }
      ],
      "source": [
        "#Programa de controle de qualidade de água#\n",
        "print(\"Insira o nivel de cloro da água para verificar se está dentro do \")\n",
        "\n",
        "while True: #Loop infinito//infinity loop#\n",
        "  nivel_cloro = float(input(\"Digite o nivel de cloro em mg/L: \"))\n",
        "\n",
        "    #Verificação se o 0.2 > nivel_cloro < 2.0#\n",
        "\n",
        "  if nivel_cloro < 0.2:\n",
        "    print(\"Atenção: O nível de cloro está abaixo do padrão aceitável!\")\n",
        "  elif nivel_cloro > 2.0:\n",
        "    print(\"Atenção: O nível de cloro está acima do padrão aceitável!\")\n",
        "  else:\n",
        "    print(\"O nível do cloro está dentro dos padrões aceitáveis\")\n",
        "    break"
      ]
    }
  ]
}