{
  "nbformat": 4,
  "nbformat_minor": 0,
  "metadata": {
    "colab": {
      "provenance": [],
      "authorship_tag": "ABX9TyPhzRaA1mDzqlxebf1uEP4h",
      "include_colab_link": true
    },
    "kernelspec": {
      "name": "python3",
      "display_name": "Python 3"
    },
    "language_info": {
      "name": "python"
    }
  },
  "cells": [
    {
      "cell_type": "markdown",
      "metadata": {
        "id": "view-in-github",
        "colab_type": "text"
      },
      "source": [
        "<a href=\"https://colab.research.google.com/github/Pedro0Oliveira/PythonPHBO/blob/main/Aula_do_dia_31_07_e_01_07.ipynb\" target=\"_parent\"><img src=\"https://colab.research.google.com/assets/colab-badge.svg\" alt=\"Open In Colab\"/></a>"
      ]
    },
    {
      "cell_type": "markdown",
      "source": [
        "Criptografia"
      ],
      "metadata": {
        "id": "Z9xs053oX6Uc"
      }
    },
    {
      "cell_type": "code",
      "execution_count": null,
      "metadata": {
        "colab": {
          "base_uri": "https://localhost:8080/"
        },
        "id": "XlxL9xJnX0z1",
        "outputId": "0ad9b89b-0876-417f-bcfe-3264c1820d7b"
      },
      "outputs": [
        {
          "output_type": "stream",
          "name": "stdout",
          "text": [
            "Digite a mensagem para criptografar:palavra\n",
            "Mensagem criptografada: ٰ١٬١ٶٲ١\n",
            "Mensagem descriptografada: palavra\n"
          ]
        }
      ],
      "source": [
        "#Criptografia\n",
        "def criptografa(msg):\n",
        "  s = \"\"\n",
        "  #Cifra de césar (adaptada)\n",
        "  for i in msg:\n",
        "    s += chr(ord(i)+1536)\n",
        "  return s\n",
        "\n",
        "\n",
        "def descriptografar(msg):\n",
        "  s = \"\"\n",
        "  for i in msg:\n",
        "    s += chr(ord(i)-1536)\n",
        "  return s\n",
        "\n",
        "mensagem = input(\"Digite a mensagem para criptografar:\")\n",
        "mensagem_criptografada = criptografa(mensagem)\n",
        "print(\"Mensagem criptografada:\", mensagem_criptografada)\n",
        "\n",
        "mensagem_descriptografada = descriptografar(mensagem_criptografada)\n",
        "print(\"Mensagem descriptografada:\", mensagem_descriptografada)"
      ]
    },
    {
      "cell_type": "markdown",
      "source": [
        "Introdução de vetores"
      ],
      "metadata": {
        "id": "pRlNDhpPfLAj"
      }
    },
    {
      "cell_type": "code",
      "source": [
        "#Considere um edificio com diversas familias e/ou moradores\n",
        "edificio_terreo = \"Familia Revoredo\"\n",
        "edificio_1º_andar = \"Familia Menezes\"\n",
        "edificio_2º_andar = \"Familia Martins\"\n",
        "edificio_3º_andar = \"Familia Oliveira\"\n",
        "\n",
        "# Como atribuir em localizações do vetor(Arrays), abstraindo o andar do\n",
        "# edificio = [\n",
        "edificio = [edificio_terreo,edificio_1º_andar,edificio_2º_andar,edificio_3º_andar]\n",
        "\n",
        "print(edificio[0])\n",
        "print(edificio[1])\n",
        "print(edificio[2])\n",
        "print(edificio[3])"
      ],
      "metadata": {
        "colab": {
          "base_uri": "https://localhost:8080/"
        },
        "id": "w-_V9gyZfOMb",
        "outputId": "134d6619-bd4e-4e45-8eca-471ca15eed61"
      },
      "execution_count": null,
      "outputs": [
        {
          "output_type": "stream",
          "name": "stdout",
          "text": [
            "Familia Revoredo\n",
            "Familia Menezes\n",
            "Familia Martins\n",
            "Familia Oliveira\n"
          ]
        }
      ]
    },
    {
      "cell_type": "code",
      "source": [
        "my_array = [7, 24, \"Fish\", \"Hat stand\"]\n",
        "print(my_array[0])"
      ],
      "metadata": {
        "colab": {
          "base_uri": "https://localhost:8080/"
        },
        "id": "E4LwR3Z6hGp7",
        "outputId": "73071a74-12eb-45ee-ae4b-dc571304ea84"
      },
      "execution_count": null,
      "outputs": [
        {
          "output_type": "stream",
          "name": "stdout",
          "text": [
            "7\n"
          ]
        }
      ]
    },
    {
      "cell_type": "code",
      "source": [
        "my_words = [\"Dudes\", \"and\"]\n",
        "print(my_words[0])\n",
        "print(my_words[1])\n",
        "\n",
        "my_words.append(\"Bettys\")\n",
        "print(my_words[2])"
      ],
      "metadata": {
        "colab": {
          "base_uri": "https://localhost:8080/"
        },
        "id": "bor980tahYD7",
        "outputId": "47fff55c-8420-4c30-8328-3425e7f66765"
      },
      "execution_count": null,
      "outputs": [
        {
          "output_type": "stream",
          "name": "stdout",
          "text": [
            "Dudes\n",
            "and\n",
            "Bettys\n"
          ]
        }
      ]
    },
    {
      "cell_type": "code",
      "source": [
        "#Para listas vazias\n",
        "lista = []\n",
        "\n",
        "#Uma lista com três notas\n",
        "notas = [7.5, 9.8, 3]\n",
        "\n",
        "#Acessar uma nota\n",
        "print(notas[0])\n",
        "\n",
        "#Modificar a primeira nota\n",
        "notas[0] = 8.7\n",
        "print(notas[0])"
      ],
      "metadata": {
        "colab": {
          "base_uri": "https://localhost:8080/"
        },
        "id": "VNQxPpvwiRBs",
        "outputId": "5d0864e3-0ad0-45f5-cbc0-87fc7a08588c"
      },
      "execution_count": null,
      "outputs": [
        {
          "output_type": "stream",
          "name": "stdout",
          "text": [
            "7.5\n",
            "8.7\n"
          ]
        }
      ]
    },
    {
      "cell_type": "code",
      "source": [
        "#Calcular a média de 5 notas\n",
        "notas = [6, 7, 5, 8, 9]\n",
        "soma = 0\n",
        "x = 0  #Inteiração\n",
        "while x < 5:\n",
        "  #soma = soma + notas[x]\n",
        "  #simplifcando soma\n",
        "  soma += notas[x]\n",
        "\n",
        "  #print(soma)\n",
        "  #x = x + 1 é equivalente a x += 1\n",
        "  x += 1\n",
        "print(\"A média é igual a: %5.2f\" % (soma/x))"
      ],
      "metadata": {
        "colab": {
          "base_uri": "https://localhost:8080/"
        },
        "id": "RnXXwnDIjiKz",
        "outputId": "b322a7dc-a61a-46df-9533-dc5e79a6bf58"
      },
      "execution_count": null,
      "outputs": [
        {
          "output_type": "stream",
          "name": "stdout",
          "text": [
            "A média é igual a:  7.00\n"
          ]
        }
      ]
    },
    {
      "cell_type": "markdown",
      "source": [
        "Saber se algo existe dentro da lista"
      ],
      "metadata": {
        "id": "45yBOiBFrQX3"
      }
    },
    {
      "cell_type": "code",
      "source": [
        "palavras = ['guerra', 'paz', 'vida', 'tranquilidade']\n",
        "'guerra' in palavras #comando para verificar se algo existe dentro da lista#"
      ],
      "metadata": {
        "id": "fz8CMyRkqKok"
      },
      "execution_count": null,
      "outputs": []
    },
    {
      "cell_type": "code",
      "source": [
        "for numero in range(20):\n",
        "  #print(numero)\n",
        "  if(numero % 2 == 0):\n",
        "    print(numero)"
      ],
      "metadata": {
        "colab": {
          "base_uri": "https://localhost:8080/"
        },
        "id": "1HnuRzKArTbX",
        "outputId": "ff9858a6-76d7-440b-c81a-30c694d28a52"
      },
      "execution_count": 4,
      "outputs": [
        {
          "output_type": "stream",
          "name": "stdout",
          "text": [
            "0\n",
            "2\n",
            "4\n",
            "6\n",
            "8\n",
            "10\n",
            "12\n",
            "14\n",
            "16\n",
            "18\n"
          ]
        }
      ]
    },
    {
      "cell_type": "code",
      "source": [
        "for fruta in [\"banana\", \"abacaxi\", \"laranja\"]:\n",
        "  print(\"Eu gosto de comer \" + fruta + \"s!\")"
      ],
      "metadata": {
        "colab": {
          "base_uri": "https://localhost:8080/"
        },
        "id": "EkDNmCEAsByk",
        "outputId": "4ecdf7f2-7af0-427c-ebe3-5f88db0f38c5"
      },
      "execution_count": 6,
      "outputs": [
        {
          "output_type": "stream",
          "name": "stdout",
          "text": [
            "Eu gosto de comer bananas!\n",
            "Eu gosto de comer abacaxis!\n",
            "Eu gosto de comer laranjas!\n"
          ]
        }
      ]
    },
    {
      "cell_type": "markdown",
      "source": [
        "**Operações com lista**"
      ],
      "metadata": {
        "id": "Hxq92BQlslQ0"
      }
    },
    {
      "cell_type": "markdown",
      "source": [
        "Concatenação em listas/vetores"
      ],
      "metadata": {
        "id": "9o-WXnyxtWSk"
      }
    },
    {
      "cell_type": "code",
      "source": [
        "a = [1,2,3]\n",
        "b = [4,5,6]\n",
        "c = a + b #Operação de concatenação\n",
        "print(c)"
      ],
      "metadata": {
        "colab": {
          "base_uri": "https://localhost:8080/"
        },
        "id": "YrvN59WLsk-8",
        "outputId": "f563ba5a-cdec-4676-d9c7-f44c67b4395f"
      },
      "execution_count": 7,
      "outputs": [
        {
          "output_type": "stream",
          "name": "stdout",
          "text": [
            "[1, 2, 3, 4, 5, 6]\n"
          ]
        }
      ]
    },
    {
      "cell_type": "markdown",
      "source": [
        "Repetição em listas/vetores"
      ],
      "metadata": {
        "id": "6fS30AEMtTLZ"
      }
    },
    {
      "cell_type": "code",
      "source": [
        "#Repetição\n",
        "d = [0] * 4\n",
        "print(d)\n",
        "\n",
        "e = [1,2,3] * 3\n",
        "print(e)"
      ],
      "metadata": {
        "colab": {
          "base_uri": "https://localhost:8080/"
        },
        "id": "CCDfiAp0s-50",
        "outputId": "1ac3cfaf-d9e1-43e2-e403-a2f66a16a7a5"
      },
      "execution_count": 9,
      "outputs": [
        {
          "output_type": "stream",
          "name": "stdout",
          "text": [
            "[0, 0, 0, 0]\n",
            "[1, 2, 3, 1, 2, 3, 1, 2, 3]\n"
          ]
        }
      ]
    },
    {
      "cell_type": "markdown",
      "source": [
        "Slicing em listas/vetores"
      ],
      "metadata": {
        "id": "ZgHJ4bPltc9k"
      }
    },
    {
      "cell_type": "code",
      "source": [
        "lista = ['a', 'b', 'c', 'd', 'e', 'f']\n",
        "print(lista[1:3])\n",
        "print(lista[:4])"
      ],
      "metadata": {
        "colab": {
          "base_uri": "https://localhost:8080/"
        },
        "id": "3p584dQGtcGZ",
        "outputId": "d8d078dc-6c7c-4159-cf74-d1530eea5bcb"
      },
      "execution_count": 12,
      "outputs": [
        {
          "output_type": "stream",
          "name": "stdout",
          "text": [
            "['b', 'c']\n",
            "['a', 'b', 'c', 'd']\n"
          ]
        }
      ]
    }
  ]
}