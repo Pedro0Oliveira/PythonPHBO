{
  "nbformat": 4,
  "nbformat_minor": 0,
  "metadata": {
    "colab": {
      "provenance": [],
      "authorship_tag": "ABX9TyPdoaHWh7lySy4vhzxdbKvG",
      "include_colab_link": true
    },
    "kernelspec": {
      "name": "python3",
      "display_name": "Python 3"
    },
    "language_info": {
      "name": "python"
    }
  },
  "cells": [
    {
      "cell_type": "markdown",
      "metadata": {
        "id": "view-in-github",
        "colab_type": "text"
      },
      "source": [
        "<a href=\"https://colab.research.google.com/github/Pedro0Oliveira/PythonPHBO/blob/main/02_Media_Nota_Ifrn.ipynb\" target=\"_parent\"><img src=\"https://colab.research.google.com/assets/colab-badge.svg\" alt=\"Open In Colab\"/></a>"
      ]
    },
    {
      "cell_type": "markdown",
      "source": [
        "Calculadora de Média Ponderada IFRN"
      ],
      "metadata": {
        "id": "-6GJHAGcxXfJ"
      }
    },
    {
      "cell_type": "code",
      "execution_count": 8,
      "metadata": {
        "colab": {
          "base_uri": "https://localhost:8080/"
        },
        "id": "7F6XStKUxPOW",
        "outputId": "e2f43710-0190-494d-a9f7-f7b3cd24b8d5"
      },
      "outputs": [
        {
          "output_type": "stream",
          "name": "stdout",
          "text": [
            "Calculadora de média ponderada do IFRN\n",
            "Digite sua 1° nota(com peso 2): 3.4\n",
            "Digite sua 2° nota(com peso 3): 5.7\n",
            "Sua media ponderada é: 4.78\n"
          ]
        }
      ],
      "source": [
        "print(\"Calculadora de média ponderada do IFRN\")\n",
        "#Quando não se explicita o tipo do dado, ela será escolhida automaticamente#\n",
        "#Float, tipagem explicita, para garantir número fracionário#\n",
        "n1 = float(input(\"Digite sua 1° nota(com peso 2): \"))\n",
        "n2 = float(input(\"Digite sua 2° nota(com peso 3): \"))\n",
        "\n",
        "#Calculo da Média Ponderada#\n",
        "media = (n1 * 2 + n2 * 3) / 5\n",
        "\n",
        "#Impressão da media#\n",
        "print(f\"Sua media ponderada é: {media:.2f}\")\n",
        "#O f do inicio é um caractere de escape#\n",
        "#O f do 2f é de Float e serve para determinar a quantidade de números que serão mostrados no resultado.#"
      ]
    }
  ]
}