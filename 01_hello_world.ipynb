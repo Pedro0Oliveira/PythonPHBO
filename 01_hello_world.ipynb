{
  "nbformat": 4,
  "nbformat_minor": 0,
  "metadata": {
    "colab": {
      "provenance": [],
      "authorship_tag": "ABX9TyOg41MVpRErWQfdlnVoJC/8",
      "include_colab_link": true
    },
    "kernelspec": {
      "name": "python3",
      "display_name": "Python 3"
    },
    "language_info": {
      "name": "python"
    }
  },
  "cells": [
    {
      "cell_type": "markdown",
      "metadata": {
        "id": "view-in-github",
        "colab_type": "text"
      },
      "source": [
        "<a href=\"https://colab.research.google.com/github/Pedro0Oliveira/PythonPHBO/blob/main/01_hello_world.ipynb\" target=\"_parent\"><img src=\"https://colab.research.google.com/assets/colab-badge.svg\" alt=\"Open In Colab\"/></a>"
      ]
    },
    {
      "cell_type": "markdown",
      "source": [
        "Meu primeiro programa"
      ],
      "metadata": {
        "id": "uDxNTtuwd5uO"
      }
    },
    {
      "cell_type": "code",
      "execution_count": null,
      "metadata": {
        "id": "JAiwkxLsdUV-"
      },
      "outputs": [],
      "source": [
        "#Imprime \"Hello, world\" na tela\n",
        "print(\"Hello, world\")"
      ]
    },
    {
      "cell_type": "code",
      "source": [
        "#Variáveis em python\n",
        "#Atribuição da string \"Hello, world\"\n",
        "message = \"Hello, world!\"\n",
        "#Imprimir o conteúdo da variável message\n",
        "print(message)"
      ],
      "metadata": {
        "id": "qtYwDbkDoq2L"
      },
      "execution_count": null,
      "outputs": []
    }
  ]
}